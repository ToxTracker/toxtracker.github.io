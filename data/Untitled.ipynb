{
 "cells": [
  {
   "cell_type": "code",
   "execution_count": 1,
   "metadata": {},
   "outputs": [
    {
     "name": "stdout",
     "output_type": "stream",
     "text": [
      "5.355651287573366 45.96240165432615\n"
     ]
    }
   ],
   "source": [
    "from pyproj import Proj, transform\n",
    "\n",
    "inProj = Proj(init='epsg:2154')\n",
    "outProj = Proj(init='epsg:4326')\n",
    "x1,y1 = 882408.3,6543019.6\n",
    "x2,y2 = transform(inProj,outProj,x1,y1)\n",
    "print(x2,y2)"
   ]
  },
  {
   "cell_type": "code",
   "execution_count": 2,
   "metadata": {},
   "outputs": [],
   "source": [
    "import pandas as pd\n",
    "\n",
    "def read(file):\n",
    "    data = pd.read_csv(file,encoding='ansi')\n",
    "    X = data['coord_x_l9']\n",
    "    Y = data['coord_y_l9']\n",
    "    return X,Y, data"
   ]
  },
  {
   "cell_type": "code",
   "execution_count": 3,
   "metadata": {},
   "outputs": [],
   "source": [
    "def write(file, X, Y, data):  \n",
    "    Xl = list()\n",
    "    Yl = list()\n",
    "    for i in range(0,len(X)):\n",
    "        x,y = X[i],Y[i]\n",
    "        x,y = transform(inProj,outProj,x,y)\n",
    "        Xl.append(x)\n",
    "        Yl.append(y)\n",
    "    data['X']=Xl\n",
    "    data['Y']=Yl\n",
    "    file_name = \"2012.csv\"\n",
    "    data.to_csv(file, sep=',', encoding='utf-8')"
   ]
  },
  {
   "cell_type": "code",
   "execution_count": 4,
   "metadata": {},
   "outputs": [],
   "source": [
    "def convert(files):\n",
    "    for file in files:\n",
    "        X,Y, data = read(file)\n",
    "        write(file, X, Y, data)"
   ]
  },
  {
   "cell_type": "code",
   "execution_count": 9,
   "metadata": {},
   "outputs": [],
   "source": [
    "file_name = [\"2012\",\"2013\",\"2014\",\"2015\",\"2016\"]\n"
   ]
  },
  {
   "cell_type": "code",
   "execution_count": 10,
   "metadata": {},
   "outputs": [],
   "source": [
    "import csv\n",
    "import json\n",
    "def convertTJSON(files):\n",
    "    for file in files:\n",
    "        csvfile = open(file+'.csv', 'r')\n",
    "        jsonfile = open(file+'.json', 'w')\n",
    "\n",
    "        fieldnames = (\"\",\"id_bdqa\",\"nom_site\",\"typologie\",\"influence\",\"adresse\",\"so2_nb_d_3\",\"so2_nb_j_s\",\"no2_nb_h_s\",\"no2_moy_an\",\"nox_moy_an\",\"pm10_moy_a\",\"pm10_nb_j_\",\"pm2_5_moy_\",\"o3_nb_j_ma\",\"o3_aot40\",\"co_nb_moy_\",\"c6h6_moy_a\",\"pb_moy_an\",\"as_moy_an\",\"cd_moy_an\",\"ni_moy_an\",\"bap_moy_an\",\"X\",\"Y\")\n",
    "        reader = csv.DictReader( csvfile, fieldnames)\n",
    "        for row in reader:\n",
    "            json.dump(row, jsonfile)\n",
    "            jsonfile.write('\\n')"
   ]
  },
  {
   "cell_type": "code",
   "execution_count": 11,
   "metadata": {},
   "outputs": [],
   "source": [
    "convertTJSON(file_name)"
   ]
  },
  {
   "cell_type": "code",
   "execution_count": null,
   "metadata": {},
   "outputs": [],
   "source": []
  }
 ],
 "metadata": {
  "kernelspec": {
   "display_name": "Python 3",
   "language": "python",
   "name": "python3"
  },
  "language_info": {
   "codemirror_mode": {
    "name": "ipython",
    "version": 3
   },
   "file_extension": ".py",
   "mimetype": "text/x-python",
   "name": "python",
   "nbconvert_exporter": "python",
   "pygments_lexer": "ipython3",
   "version": "3.7.0"
  }
 },
 "nbformat": 4,
 "nbformat_minor": 2
}
